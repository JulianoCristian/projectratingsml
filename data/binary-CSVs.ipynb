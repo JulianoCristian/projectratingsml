{
 "cells": [
  {
   "cell_type": "markdown",
   "metadata": {},
   "source": [
    "Cross the project data creating 2 files, both with one abstract per line and each containint positive or negative ones. \n",
    "\n",
    "This is doen to mimick rotten tomatoes data, as a test if the results port when the \"reviews\" are as long as project abstract.\n",
    "\n",
    "Create both a set with onle highly positive/negative and anotehr with all positive/negative, to see how it influences."
   ]
  },
  {
   "cell_type": "code",
   "execution_count": 26,
   "metadata": {
    "collapsed": false
   },
   "outputs": [
    {
     "name": "stdout",
     "output_type": "stream",
     "text": [
      "9758 projects in total:\n"
     ]
    }
   ],
   "source": [
    "#read only proejct IDs and IEG overall rating\n",
    "import csv\n",
    "with open('./ieg-ratings.csv', mode='r') as infile:\n",
    "    reader = csv.reader(infile)\n",
    "    next(reader, None)  # skip the headers\n",
    "    ratings = {rows[0]:rows[22] for rows in reader}\n",
    "print len(ratings), \"projects in total.\""
   ]
  },
  {
   "cell_type": "code",
   "execution_count": 38,
   "metadata": {
    "collapsed": false
   },
   "outputs": [
    {
     "name": "stdout",
     "output_type": "stream",
     "text": [
      "['Highly Satisfactory' 'Highly Unsatisfactory' 'Moderately Satisfactory'\n",
      " 'Moderately Unsatisfactory' 'Not Applicable' 'Not Available' 'Not Rated'\n",
      " 'Satisfactory' 'Unsatisfactory']\n",
      "Highly Satisfactory [268]\n",
      "Highly Unsatisfactory [143]\n",
      "Moderately Satisfactory [1972]\n",
      "Moderately Unsatisfactory [794]\n",
      "Not Applicable [9]\n",
      "Not Available [9]\n",
      "Not Rated [137]\n",
      "Satisfactory [4707]\n",
      "Unsatisfactory [1719]\n"
     ]
    }
   ],
   "source": [
    "import numpy as np\n",
    "print np.unique(ratings.values())\n",
    "for rating in np.unique(ratings.values()):\n",
    "    print rating, np.unique(ratings.values().count(rating))"
   ]
  },
  {
   "cell_type": "markdown",
   "metadata": {},
   "source": [
    "There are ~2.6 more positive ones than negative ones, both when leaving out or not the modearte ones (6947/2666. all vs 4975./1872. non moderates)."
   ]
  },
  {
   "cell_type": "code",
   "execution_count": 59,
   "metadata": {
    "collapsed": false
   },
   "outputs": [],
   "source": [
    "#Get abstracts\n",
    "import json\n",
    "from pprint import pprint\n",
    "\n",
    "with open('./appraisal-abstracts.json') as data_file:    \n",
    "    abstracts = json.load(data_file)"
   ]
  },
  {
   "cell_type": "code",
   "execution_count": 79,
   "metadata": {
    "collapsed": false
   },
   "outputs": [],
   "source": [
    "pf='positive_ratings.csv' \n",
    "nf='negative_ratings.csv'\n",
    "of='other.csv'\n",
    "\n",
    "outfile_map={'Highly Satisfactory':pf,\n",
    "              'Highly Unsatisfactory':nf,\n",
    "              'Moderately Satisfactory':pf,\n",
    "              'Moderately Unsatisfactory':nf,\n",
    "              'Not Applicable':of,\n",
    "              'Not Available':of,\n",
    "              'Not Rated':of,\n",
    "              'Satisfactory':pf,\n",
    "              'Unsatisfactory':nf}\n",
    "\n",
    "with open(pf, 'w') as p, open(nf, 'w') as n, open(of, 'w') as o:\n",
    "    pwriter = csv.writer(p, delimiter=',')\n",
    "    nwriter = csv.writer(n, delimiter=',')\n",
    "    owriter = csv.writer(o, delimiter=',')\n",
    "    for p_id in abstracts.keys():\n",
    "        text=' '.join(abstracts[p_id].split()).replace(',',' ')\n",
    "        if (outfile_map[ratings[p_id]] == pf): pwriter.writerow([text]) \n",
    "        if (outfile_map[ratings[p_id]] == nf): nwriter.writerow([text])\n",
    "        if (outfile_map[ratings[p_id]] == of): owriter.writerow([text]) "
   ]
  },
  {
   "cell_type": "code",
   "execution_count": null,
   "metadata": {
    "collapsed": false
   },
   "outputs": [],
   "source": []
  },
  {
   "cell_type": "code",
   "execution_count": null,
   "metadata": {
    "collapsed": false
   },
   "outputs": [],
   "source": []
  },
  {
   "cell_type": "code",
   "execution_count": null,
   "metadata": {
    "collapsed": true
   },
   "outputs": [],
   "source": []
  }
 ],
 "metadata": {
  "kernelspec": {
   "display_name": "Python 2",
   "language": "python",
   "name": "python2"
  },
  "language_info": {
   "codemirror_mode": {
    "name": "ipython",
    "version": 2
   },
   "file_extension": ".py",
   "mimetype": "text/x-python",
   "name": "python",
   "nbconvert_exporter": "python",
   "pygments_lexer": "ipython2",
   "version": "2.7.11"
  }
 },
 "nbformat": 4,
 "nbformat_minor": 0
}
